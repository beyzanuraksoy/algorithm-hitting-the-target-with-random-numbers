import math
import random

uzaklik_mesafesi = 20000 + 200 * random.randint(-10, 10)
genislik_baslangic = uzaklik_mesafesi
genislik_bitis = uzaklik_mesafesi + 1000 + 100 * random.randint(-2, 2)

ilk_konum = int(input("Okul numaranızın son 2 hanesini giriniz: "))  # y eksenindeki başlangıç yüksekliği
son_konum = 0  # deniz seviyesi

min_hiz = 330
max_hiz = 1800
v = (min_hiz + max_hiz) / 2

atıs_sayısı = 1

while True:

    aci = 30  # derece
    g = 10  # m/s^2
    aci = math.radians(aci)
    vx = v * math.cos(aci)
    vy = v * math.sin(aci)
    zaman = ((1 / 2) * vy / g) / g + math.sqrt(
        ((1 / 2) * vy / g) * ((1 / 2) * vy / g) - 2 * (son_konum - ilk_konum) / g
    )
    alinan_yol = vx * zaman

    if genislik_baslangic < alinan_yol < genislik_bitis:
        print(f"{atıs_sayısı}. seferde vuruş gerçekleşmiştir. Hedefi vurmak için gerekli hız {v:.2f} dir")
        break

    elif alinan_yol < genislik_baslangic:
        print("Önüne düştü")
        min_hiz = v # Yeni minimum hızımız önceki atışın hızı olur.

    elif alinan_yol > genislik_bitis:
        print("Uzağına düştü")
        max_hiz = v # Yeni maksimum hızımız önceki atışın hızı olur.

    if atıs_sayısı == 10:
        print("Hedefi vuramadınız. Üzgünüz!")
        break
    
    v = (min_hiz + max_hiz) / 2
    atıs_sayısı += 1