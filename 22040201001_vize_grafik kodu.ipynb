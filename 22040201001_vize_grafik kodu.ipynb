import math
import random
import matplotlib.pyplot as plt

def topun_hareketi(ilk_konum, son_konum, v, aci):
    g = 10
    aci = math.radians(aci)
    vx = v * math.cos(aci)
    vy = v * math.sin(aci)
    
    t1 = (vy + math.sqrt(vy**2 + 2*g*ilk_konum)) / g
    t2 = (vy - math.sqrt(vy**2 + 2*g*son_konum)) / g
    
    t = t1 + t2
    x = vx * t
    y = 0
    
    t_list = [i/100 for i in range(0, int(t*100))]
    x_list = [vx*t for t in t_list]
    y_list = [ilk_konum + vy*t - 1/2*g*t**2 for t in t_list]
    
    return x, y, x_list, y_list

uzaklik_mesafesi = 20000 + 200 * random.randint(-10, 10)
genislik_baslangic = uzaklik_mesafesi
genislik_bitis = uzaklik_mesafesi + 1000 + 100 * random.randint(-2, 2)

ilk_konum = int(input("Okul numaranızın son 2 hanesini giriniz: "))
son_konum = 0
min_hiz = 330
max_hiz = 1800
v = (min_hiz + max_hiz) / 2
atıs_sayısı = 1

while True:

    aci = 30
    x, y, x_list, y_list = topun_hareketi(ilk_konum, son_konum, v, aci)

    if genislik_baslangic < x < genislik_bitis:
        print(f"{atıs_sayısı}. seferde vuruş gerçekleşmiştir. Hedefi vurmak için gerekli hız {v:.2f} dir")
        plt.plot(x_list, y_list)
        plt.xlabel('x (m)')
        plt.ylabel('y (m)')
        plt.title('Topun Hareketi')
        plt.show()
        break

    elif x < genislik_baslangic:
        print("Önüne düştü")
        min_hiz = v

    elif x > genislik_bitis:
        print("Uzağına düştü")
        max_hiz = v

    if atıs_sayısı == 10:
        print("Hedefi vuramadınız. Üzgünüz!")
        break
    
    v = (min_hiz + max_hiz) / 2
    atıs_sayısı += 1
